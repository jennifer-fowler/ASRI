{
  "cells": [
    {
      "cell_type": "markdown",
      "source": [
        "## Debernardi Cancer Data - Model Comparisons\n",
        "\n",
        "In this notebook, we are going to compare lots of regression, multi-class classification, and binary classification models on the Debernardi pancreatic cancer data set."
      ],
      "metadata": {
        "id": "qqiZG7CoDB5m"
      }
    },
    {
      "cell_type": "code",
      "execution_count": null,
      "metadata": {
        "id": "4tMHEP_MHDKh"
      },
      "outputs": [],
      "source": [
        "# import base packages\n",
        "\n",
        "import os\n",
        "import pandas as pd\n",
        "import numpy as np\n",
        "import seaborn as sns\n",
        "import matplotlib as plt\n",
        "import matplotlib.pyplot as plt\n",
        "\n",
        "#upload the dataset to the temporary session storage on the left- the file icon\n",
        "\n",
        "#import the data file from session storage\n",
        "df = pd.read_csv('/content/Debernardi-data.csv')"
      ]
    },
    {
      "cell_type": "code",
      "execution_count": null,
      "metadata": {
        "colab": {
          "base_uri": "https://localhost:8080/"
        },
        "id": "igz32rhcSINi",
        "outputId": "c2f108ff-1b0a-4c30-a79e-cc0e0b245aec"
      },
      "outputs": [
        {
          "output_type": "stream",
          "name": "stdout",
          "text": [
            "(590, 14)\n",
            "Index(['sample_id', 'patient_cohort', 'sample_origin', 'age', 'sex',\n",
            "       'diagnosis', 'stage', 'benign_sample_diagnosis', 'plasma_CA19_9',\n",
            "       'creatinine', 'LYVE1', 'REG1B', 'TFF1', 'REG1A'],\n",
            "      dtype='object') 14\n"
          ]
        }
      ],
      "source": [
        "#this will tell us how big the dataset is, with rows then columns\n",
        "print(df.shape)\n",
        "\n",
        "#print the list of column names\n",
        "print (df.columns, len(df.columns))"
      ]
    },
    {
      "cell_type": "code",
      "execution_count": null,
      "metadata": {
        "id": "lA-sy2C9SGpE",
        "colab": {
          "base_uri": "https://localhost:8080/"
        },
        "outputId": "6a36f822-4d49-415c-f981-b8215821d845"
      },
      "outputs": [
        {
          "output_type": "stream",
          "name": "stdout",
          "text": [
            "  sample_id patient_cohort sample_origin  age sex  diagnosis stage  \\\n",
            "0        S1        Cohort1          BPTB   33   F          1   NaN   \n",
            "1       S10        Cohort1          BPTB   81   F          1   NaN   \n",
            "2      S100        Cohort2          BPTB   51   M          1   NaN   \n",
            "3      S101        Cohort2          BPTB   61   M          1   NaN   \n",
            "4      S102        Cohort2          BPTB   62   M          1   NaN   \n",
            "\n",
            "  benign_sample_diagnosis  plasma_CA19_9  creatinine     LYVE1      REG1B  \\\n",
            "0                     NaN           11.7     1.83222  0.893219   52.94884   \n",
            "1                     NaN            NaN     0.97266  2.037585   94.46703   \n",
            "2                     NaN            7.0     0.78039  0.145589  102.36600   \n",
            "3                     NaN            8.0     0.70122  0.002805   60.57900   \n",
            "4                     NaN            9.0     0.21489  0.000860   65.54000   \n",
            "\n",
            "         TFF1     REG1A  \n",
            "0  654.282174  1262.000  \n",
            "1  209.488250   228.407  \n",
            "2  461.141000       NaN  \n",
            "3  142.950000       NaN  \n",
            "4   41.088000       NaN  \n"
          ]
        }
      ],
      "source": [
        "#print the first 6 rows to see what the data looks like\n",
        "print(df.head())"
      ]
    },
    {
      "cell_type": "code",
      "execution_count": null,
      "metadata": {
        "id": "0-Fvt7lCSM_z",
        "colab": {
          "base_uri": "https://localhost:8080/"
        },
        "outputId": "6e4d649c-fe64-4cc5-b8b2-68ac01ccc0b7"
      },
      "outputs": [
        {
          "output_type": "execute_result",
          "data": {
            "text/plain": [
              "sample_id                    0\n",
              "patient_cohort               0\n",
              "sample_origin                0\n",
              "age                          0\n",
              "sex                          0\n",
              "diagnosis                    0\n",
              "stage                      391\n",
              "benign_sample_diagnosis    382\n",
              "plasma_CA19_9              240\n",
              "creatinine                   0\n",
              "LYVE1                        0\n",
              "REG1B                        0\n",
              "TFF1                         0\n",
              "REG1A                      284\n",
              "dtype: int64"
            ]
          },
          "metadata": {},
          "execution_count": 88
        }
      ],
      "source": [
        "# Checking to see if there are any columns with missing values\n",
        "df.isnull().sum()"
      ]
    },
    {
      "cell_type": "code",
      "execution_count": null,
      "metadata": {
        "id": "5Rg9l4kz2-4l",
        "colab": {
          "base_uri": "https://localhost:8080/"
        },
        "outputId": "0f0f5364-99f3-4ede-c644-1e3e6f924cab"
      },
      "outputs": [
        {
          "output_type": "execute_result",
          "data": {
            "text/plain": [
              "sample_id                    0\n",
              "patient_cohort               0\n",
              "sample_origin                0\n",
              "age                          0\n",
              "sex                          0\n",
              "diagnosis                    0\n",
              "stage                        0\n",
              "benign_sample_diagnosis      0\n",
              "plasma_CA19_9              240\n",
              "creatinine                   0\n",
              "LYVE1                        0\n",
              "REG1B                        0\n",
              "TFF1                         0\n",
              "REG1A                      284\n",
              "dtype: int64"
            ]
          },
          "metadata": {},
          "execution_count": 4
        }
      ],
      "source": [
        "# to preserve the benign samples, we can fill the missing values in the \"stage\" and benign_sample_diagnosis column with a placeholder\n",
        "df['stage'] = df['stage'].fillna('b')\n",
        "df['benign_sample_diagnosis'] = df['benign_sample_diagnosis'].fillna('b')\n",
        "# Checking columns with missing values again\n",
        "df.isnull().sum()"
      ]
    },
    {
      "cell_type": "code",
      "execution_count": null,
      "metadata": {
        "colab": {
          "base_uri": "https://localhost:8080/"
        },
        "id": "hx0TumxIHnZS",
        "outputId": "0f4997a5-3566-41a7-a54d-fe34b281fada"
      },
      "outputs": [
        {
          "output_type": "stream",
          "name": "stdout",
          "text": [
            "... Drop columns with too many NAs ...\n",
            "Using 12 features of 14, due to NA values.\n"
          ]
        }
      ],
      "source": [
        "print(\"... Drop columns with too many NAs ...\", flush=True)\n",
        "        # Drop columns with > 60% missing data\n",
        "n_cols_before_drop = len(df.columns.values)\n",
        "df2 = df[df.columns[df.isna().mean() <= 0.40]]\n",
        "n_cols_after_drop = len(df2.columns.values)\n",
        "print(f\"Using {n_cols_after_drop} features of {n_cols_before_drop}, due to NA values.\")"
      ]
    },
    {
      "cell_type": "code",
      "execution_count": null,
      "metadata": {
        "colab": {
          "base_uri": "https://localhost:8080/"
        },
        "id": "r7TBd1NjQ23_",
        "outputId": "89d41684-9a39-41b8-b70d-5d96cde34ad7"
      },
      "outputs": [
        {
          "output_type": "stream",
          "name": "stdout",
          "text": [
            "Index(['sample_id', 'patient_cohort', 'sample_origin', 'age', 'sex',\n",
            "       'diagnosis', 'stage', 'benign_sample_diagnosis', 'creatinine', 'LYVE1',\n",
            "       'REG1B', 'TFF1'],\n",
            "      dtype='object') 12\n"
          ]
        }
      ],
      "source": [
        "#print the list of column names\n",
        "print (df2.columns, len(df2.columns))"
      ]
    },
    {
      "cell_type": "code",
      "execution_count": null,
      "metadata": {
        "colab": {
          "base_uri": "https://localhost:8080/"
        },
        "id": "MrMJp-WEQe6w",
        "outputId": "620557c8-74a1-4e96-b689-0988a23c176f"
      },
      "outputs": [
        {
          "output_type": "stream",
          "name": "stdout",
          "text": [
            "(590,)\n",
            "(590,)\n"
          ]
        }
      ],
      "source": [
        "# explore relationship between REG1B and Diagnosis\n",
        "X= df2['REG1B']\n",
        "print(X.shape)\n",
        "y = df2['diagnosis']\n",
        "print(y.shape)"
      ]
    },
    {
      "cell_type": "code",
      "execution_count": null,
      "metadata": {
        "id": "cjQ2Lfb32-4n"
      },
      "outputs": [],
      "source": [
        "X = X.values.reshape(-1,1)"
      ]
    },
    {
      "cell_type": "code",
      "execution_count": null,
      "metadata": {
        "id": "MuHpIcaHQYw_"
      },
      "outputs": [],
      "source": [
        "#let's explore various regression models to investigate the relationship between REG1B and diagnosis\n",
        "from sklearn import linear_model\n",
        "from sklearn.linear_model import LinearRegression\n",
        "from sklearn.linear_model import LinearRegression, ElasticNet, BayesianRidge, Ridge\n",
        "from sklearn.ensemble import RandomForestRegressor\n",
        "from sklearn.neighbors import KNeighborsRegressor\n",
        "from sklearn.metrics import r2_score, explained_variance_score, mean_squared_error, mean_absolute_error\n",
        "\n",
        "r1 = LinearRegression()\n",
        "r2 = RandomForestRegressor(n_estimators=10, random_state=1)\n",
        "r3 = KNeighborsRegressor()\n",
        "r4 = Ridge(alpha=1.0)\n",
        "r5 = linear_model.BayesianRidge()\n",
        "r6 = ElasticNet(random_state=0)\n"
      ]
    },
    {
      "cell_type": "code",
      "execution_count": null,
      "metadata": {
        "id": "Bsi5AQ-9RGNO"
      },
      "outputs": [],
      "source": [
        "# to visualize the performance of the different regressors\n",
        "#let's fit each regressor on the first 20 rows of  data and plot the predictions\n",
        "\n",
        "# let's define a subset of the observations\n",
        "xt = X[:20]\n",
        "\n",
        "# fit each regressor\n",
        "r1.fit(X, y)\n",
        "r2.fit(X, y)\n",
        "r3.fit(X, y)\n",
        "r4.fit(X, y)\n",
        "r5.fit(X, y)\n",
        "r6.fit(X, y)\n",
        "\n",
        "#make predictions on subset\n",
        "pred1 = r1.predict(xt)\n",
        "pred2 = r2.predict(xt)\n",
        "pred3 = r3.predict(xt)\n",
        "pred4 = r4.predict(xt)\n",
        "pred5 = r5.predict(xt)\n",
        "pred6 = r6.predict(xt)"
      ]
    },
    {
      "cell_type": "code",
      "execution_count": null,
      "metadata": {
        "colab": {
          "base_uri": "https://localhost:8080/",
          "height": 278
        },
        "id": "jnKku5BHRK5A",
        "outputId": "bd7040de-d898-427e-faef-c13573e11585"
      },
      "outputs": [
        {
          "data": {
            "image/png": "[encoded data removed]",
            "text/plain": [
              "<Figure size 432x288 with 1 Axes>"
            ]
          },
          "metadata": {
            "needs_background": "light"
          },
          "output_type": "display_data"
        }
      ],
      "source": [
        "# let's plot the first 20 predictions to see what each model predicted\n",
        "plt.figure()\n",
        "plt.plot(pred1, \"gd\", label=\"LinearRegression\")\n",
        "plt.plot(pred2, \"b^\", label=\"RandomForestRegressor\")\n",
        "plt.plot(pred3, \"ys\", label=\"KNN\")\n",
        "plt.plot(pred4, \"r*\", ms=10, label=\"Ridge\")\n",
        "plt.plot(pred5, \"r^\", ms=10, label=\"Bayesian Ridge\")\n",
        "plt.plot(pred6, \"bd\", ms=10, label=\"Elastic Net\")\n",
        "\n",
        "plt.tick_params(axis=\"x\", which=\"both\", bottom=False, top=False, labelbottom=False)\n",
        "plt.ylabel(\"predicted\")\n",
        "plt.xlabel(\"training samples\")\n",
        "plt.legend(bbox_to_anchor=(1.05, 1.0), loc='upper left')\n",
        "plt.title(\"Regressor predictions\")\n",
        "\n",
        "plt.show()\n"
      ]
    },
    {
      "cell_type": "code",
      "execution_count": null,
      "metadata": {
        "id": "le0EEurRRoWf",
        "outputId": "ea3100c5-cb88-4cc5-a91e-ef8814aa5dc6"
      },
      "outputs": [
        {
          "name": "stdout",
          "output_type": "stream",
          "text": [
            "LinearRegression r2 score:  0.14708464994781478\n",
            "RandomForestRegressor r2 score:  0.7872714447247837\n",
            "KNeighborsRegressor r2 score:  0.36598141468701684\n",
            "Ridge r2 score:  0.14708464994781423\n",
            "Bayesian Ridge r2 score:  0.14708033353759886\n",
            "ElasticNet r2 score:  0.1470745663012838\n",
            ".....\n",
            "LinearRegression Explained Variance:  0.14708464994781478\n",
            "RandomForestRegressor Explained Variance:  0.7872736420816973\n",
            "KNeighborsRegressor Explained Variance:  0.3661207156944617\n",
            "Ridge Explained Variance:  0.14708464994781423\n",
            "Bayesian Ridge Explained Variance:  0.14708033353759886\n",
            "ElasticNet Explained Variance:  0.14707456630128368\n"
          ]
        }
      ],
      "source": [
        "# looks like the linear regression, elastic-net, bayesian ridge, and ridge models all predicted the same values\n",
        "# KNN and random forest predictions are unique and different from the other 4 models\n",
        "\n",
        "# let's check some metrics for these regressor models\n",
        "#first we need to predict all the Y values, not just the first 20\n",
        "pred1 = r1.predict(X)\n",
        "pred2 = r2.predict(X)\n",
        "pred3 = r3.predict(X)\n",
        "pred4 = r4.predict(X)\n",
        "pred5 = r5.predict(X)\n",
        "pred6 = r6.predict(X)\n",
        "\n",
        "# now let's see the R^2 score for each model-  \n",
        "# Best possible score is 1.0 and it can be negative (because the model can be arbitrarily worse). \n",
        "# A constant model that always predicts the expected (average) value of y, disregarding the input features, would get an  score of 0.0.\n",
        "print(\"LinearRegression r2 score: \", r2_score(y, pred1))\n",
        "print(\"RandomForestRegressor r2 score: \", r2_score(y, pred2))\n",
        "print(\"KNeighborsRegressor r2 score: \", r2_score(y, pred3))\n",
        "print(\"Ridge r2 score: \", r2_score(y, pred4))\n",
        "print(\"Bayesian Ridge r2 score: \", r2_score(y, pred5))\n",
        "print(\"ElasticNet r2 score: \", r2_score(y, pred6))\n",
        "\n",
        "print(\".....\")\n",
        "# We can also check the explained variance of each model- The best possible score is 1.0, lower values are worse.\n",
        "print(\"LinearRegression Explained Variance: \", explained_variance_score(y, pred1))\n",
        "print(\"RandomForestRegressor Explained Variance: \", explained_variance_score(y, pred2))\n",
        "print(\"KNeighborsRegressor Explained Variance: \", explained_variance_score(y, pred3))\n",
        "print(\"Ridge Explained Variance: \", explained_variance_score(y, pred4))\n",
        "print(\"Bayesian Ridge Explained Variance: \", explained_variance_score(y, pred5))\n",
        "print(\"ElasticNet Explained Variance: \", explained_variance_score(y, pred6))\n"
      ]
    },
    {
      "cell_type": "markdown",
      "metadata": {
        "id": "TypbtbSy2-4q"
      },
      "source": [
        "So despite the initial visualization seeming like the RF and KNN models were totally off, they actually performed better on the larger set of data.\n",
        "\n",
        "# **STOP! What is wrong with this analysis?**\n",
        "\n",
        "The diagnosis feature, although it is coded as a number, is discrete. Regression models are for predicting and modeling continuous values. If you revisit the plot we made earlier- you can see some of the predictions are in between the values of 1, 2, and 3, but they shouldn't be. You can't have a fractional diagnosis!\n",
        "\n",
        "\n",
        "So this is really a classification problem!\n",
        "\n",
        "Let's perform some classification tasks now. We can approach this two ways since the diagnosis value is either 1 (control), 2 (benign), or 3 (cancer). We can attempt what's called a multi-class classification to predict all three categories, OR we can get rid of the one group of data and use the biomarkers to predict just two of the diagnosis values (binary classification problem). You could either remove the benign group or the control group and then build a model to classify cancer/no cancer, OR cancer/benign."
      ]
    },
    {
      "cell_type": "code",
      "source": [
        "# let's use the same features in the classification task\n",
        "\n",
        "X= df2['REG1B']\n",
        "X = X.values.reshape(-1,1)\n",
        "print(X.shape)\n",
        "y = df2['diagnosis']\n",
        "print(y.shape)\n",
        "\n",
        "# we will assign this variable target_names to help us with the evaluation of each classifier\n",
        "target_names = ['1 (Control)', '2 (Benign)', '3 (Cancer)']"
      ],
      "metadata": {
        "colab": {
          "base_uri": "https://localhost:8080/"
        },
        "id": "8rCn0m1k3XFz",
        "outputId": "792264bb-5755-459e-918b-510abd816c64"
      },
      "execution_count": null,
      "outputs": [
        {
          "output_type": "stream",
          "name": "stdout",
          "text": [
            "(590, 1)\n",
            "(590,)\n"
          ]
        }
      ]
    },
    {
      "cell_type": "code",
      "source": [
        "# let's compare multi-class classification models now\n",
        "# these typically work best if you scale the data first- that means normalizing it so there's not much deviation\n",
        "#but let's try them first without scaling, then we can repeat them with scaling and see how they compare\n",
        "\n",
        "from sklearn.multiclass import OneVsRestClassifier, OneVsOneClassifier\n",
        "from sklearn.svm import LinearSVC\n",
        "from sklearn.linear_model import RidgeClassifierCV, SGDClassifier\n",
        "from sklearn.neighbors import KNeighborsClassifier\n",
        "from sklearn.ensemble import GradientBoostingClassifier\n",
        "\n",
        "from sklearn.metrics import confusion_matrix, classification_report, multilabel_confusion_matrix\n",
        "from sklearn import preprocessing\n",
        "from sklearn.preprocessing import StandardScaler\n",
        "\n",
        "\n",
        "# I'm going to break each one out into separate cells."
      ],
      "metadata": {
        "id": "BF-DPJYZ8Lgm"
      },
      "execution_count": null,
      "outputs": []
    },
    {
      "cell_type": "markdown",
      "source": [
        "To compare the models, we will look at precision and recall scores of each one.\n",
        "\n",
        "The precision is the ratio tp / (tp + fp) where tp is the number of true positives and fp the number of false positives. The precision is intuitively the ability of the classifier not to label a negative sample as positive. The best score is 1.0\n",
        "\n",
        "The recall is the ratio tp / (tp + fn) where tp is the number of true positives and fn the number of false negatives. The recall is intuitively the ability of the classifier to find all the positive samples. The best score is 1.0\n",
        "\n",
        "The F-beta score can be interpreted as a weighted harmonic mean of the precision and recall, where an F-beta score reaches its best value at 1 and worst score at 0.\n",
        "\n",
        "The support is the actual number of occurrences of each class in the ground truth or real data (these numbers will not change)."
      ],
      "metadata": {
        "id": "5gOtrWz2EQSZ"
      }
    },
    {
      "cell_type": "code",
      "source": [
        "# prepare scaled data for comparison\n",
        "scaler = preprocessing.StandardScaler().fit(X)\n",
        "Xs = scaler.transform(X)"
      ],
      "metadata": {
        "id": "OFvlzr6JGLwM"
      },
      "execution_count": null,
      "outputs": []
    },
    {
      "cell_type": "code",
      "source": [
        "# one-versus-rest support vector classifier\n",
        "# without scaling\n",
        "c1 = OneVsRestClassifier(LinearSVC(random_state=0))\n",
        "#fit the model\n",
        "c1.fit(X, y)\n",
        "#make predictions\n",
        "p1 = c1.predict(X)\n",
        "# check accuracy\n",
        "print(\"Without Scaling\")\n",
        "print(classification_report(y, p1, target_names=target_names))\n",
        "\n",
        "# one-versus-rest support vector classifier WITH scaling\n",
        "#fit the model\n",
        "c1.fit(Xs, y)\n",
        "#make predictions\n",
        "p1s = c1.predict(Xs)\n",
        "print(\"With Scaling\")\n",
        "# check accuracy\n",
        "print(classification_report(y, p1s, target_names=target_names))"
      ],
      "metadata": {
        "id": "6BD-2xzW-gBn",
        "colab": {
          "base_uri": "https://localhost:8080/"
        },
        "outputId": "6e5800d5-d26f-48af-ea32-e0ee7edbe5a8"
      },
      "execution_count": null,
      "outputs": [
        {
          "output_type": "stream",
          "name": "stdout",
          "text": [
            "Without Scaling\n",
            "              precision    recall  f1-score   support\n",
            "\n",
            " 1 (Control)       0.00      0.00      0.00       183\n",
            "  2 (Benign)       0.36      0.99      0.53       208\n",
            "  3 (Cancer)       0.86      0.12      0.21       199\n",
            "\n",
            "    accuracy                           0.39       590\n",
            "   macro avg       0.41      0.37      0.25       590\n",
            "weighted avg       0.42      0.39      0.26       590\n",
            "\n",
            "With Scaling\n",
            "              precision    recall  f1-score   support\n",
            "\n",
            " 1 (Control)       0.49      0.34      0.41       183\n",
            "  2 (Benign)       0.40      0.58      0.48       208\n",
            "  3 (Cancer)       0.68      0.55      0.61       199\n",
            "\n",
            "    accuracy                           0.50       590\n",
            "   macro avg       0.52      0.49      0.50       590\n",
            "weighted avg       0.52      0.50      0.50       590\n",
            "\n"
          ]
        },
        {
          "output_type": "stream",
          "name": "stderr",
          "text": [
            "/usr/local/lib/python3.7/dist-packages/sklearn/svm/_base.py:1208: ConvergenceWarning: Liblinear failed to converge, increase the number of iterations.\n",
            "  ConvergenceWarning,\n",
            "/usr/local/lib/python3.7/dist-packages/sklearn/svm/_base.py:1208: ConvergenceWarning: Liblinear failed to converge, increase the number of iterations.\n",
            "  ConvergenceWarning,\n",
            "/usr/local/lib/python3.7/dist-packages/sklearn/svm/_base.py:1208: ConvergenceWarning: Liblinear failed to converge, increase the number of iterations.\n",
            "  ConvergenceWarning,\n",
            "/usr/local/lib/python3.7/dist-packages/sklearn/metrics/_classification.py:1318: UndefinedMetricWarning: Precision and F-score are ill-defined and being set to 0.0 in labels with no predicted samples. Use `zero_division` parameter to control this behavior.\n",
            "  _warn_prf(average, modifier, msg_start, len(result))\n",
            "/usr/local/lib/python3.7/dist-packages/sklearn/metrics/_classification.py:1318: UndefinedMetricWarning: Precision and F-score are ill-defined and being set to 0.0 in labels with no predicted samples. Use `zero_division` parameter to control this behavior.\n",
            "  _warn_prf(average, modifier, msg_start, len(result))\n",
            "/usr/local/lib/python3.7/dist-packages/sklearn/metrics/_classification.py:1318: UndefinedMetricWarning: Precision and F-score are ill-defined and being set to 0.0 in labels with no predicted samples. Use `zero_division` parameter to control this behavior.\n",
            "  _warn_prf(average, modifier, msg_start, len(result))\n"
          ]
        }
      ]
    },
    {
      "cell_type": "code",
      "source": [
        "# one-versus-one support vector classifier WITHOUT scaling\n",
        "c2 = OneVsOneClassifier(LinearSVC(random_state=0))\n",
        "#fit the model\n",
        "c2.fit(X, y)\n",
        "#make predictions\n",
        "p2 = c2.predict(X)\n",
        "print(\"Without Scaling\")\n",
        "# check accuracy\n",
        "print(classification_report(y, p2, target_names=target_names))\n",
        "\n",
        "# one-versus-one support vector classifier WITH scaling\n",
        "#fit the model\n",
        "c2.fit(Xs, y)\n",
        "#make predictions\n",
        "p2s = c2.predict(Xs)\n",
        "print(\"With Scaling\")\n",
        "# check accuracy\n",
        "print(classification_report(y, p2s, target_names=target_names))"
      ],
      "metadata": {
        "id": "njyW5IlG-gJG",
        "colab": {
          "base_uri": "https://localhost:8080/"
        },
        "outputId": "8dfd2e29-99de-4f35-8555-5aaaad90ff46"
      },
      "execution_count": null,
      "outputs": [
        {
          "output_type": "stream",
          "name": "stdout",
          "text": [
            "Without Scaling\n",
            "              precision    recall  f1-score   support\n",
            "\n",
            " 1 (Control)       0.36      0.38      0.37       183\n",
            "  2 (Benign)       0.46      0.40      0.43       208\n",
            "  3 (Cancer)       0.61      0.65      0.63       199\n",
            "\n",
            "    accuracy                           0.48       590\n",
            "   macro avg       0.47      0.48      0.47       590\n",
            "weighted avg       0.48      0.48      0.48       590\n",
            "\n",
            "With Scaling\n",
            "              precision    recall  f1-score   support\n",
            "\n",
            " 1 (Control)       0.42      0.12      0.19       183\n",
            "  2 (Benign)       0.38      0.73      0.50       208\n",
            "  3 (Cancer)       0.68      0.47      0.56       199\n",
            "\n",
            "    accuracy                           0.45       590\n",
            "   macro avg       0.49      0.44      0.41       590\n",
            "weighted avg       0.49      0.45      0.42       590\n",
            "\n"
          ]
        },
        {
          "output_type": "stream",
          "name": "stderr",
          "text": [
            "/usr/local/lib/python3.7/dist-packages/sklearn/svm/_base.py:1208: ConvergenceWarning: Liblinear failed to converge, increase the number of iterations.\n",
            "  ConvergenceWarning,\n",
            "/usr/local/lib/python3.7/dist-packages/sklearn/svm/_base.py:1208: ConvergenceWarning: Liblinear failed to converge, increase the number of iterations.\n",
            "  ConvergenceWarning,\n",
            "/usr/local/lib/python3.7/dist-packages/sklearn/svm/_base.py:1208: ConvergenceWarning: Liblinear failed to converge, increase the number of iterations.\n",
            "  ConvergenceWarning,\n"
          ]
        }
      ]
    },
    {
      "cell_type": "code",
      "source": [
        "# K-Nearest Neighbors Classifier WITHOUT scaling\n",
        "#define the model\n",
        "c3 = KNeighborsClassifier(n_neighbors=3)\n",
        "#fit the model\n",
        "c3.fit(X, y)\n",
        "#make predictions\n",
        "p3 = c3.predict(X)\n",
        "print(\"Without Scaling\")\n",
        "# check accuracy\n",
        "print(classification_report(y, p3, target_names=target_names))\n",
        "\n",
        "# K-Nearest Neighbors Classifier WITH scaling\n",
        "#fit the model\n",
        "c3.fit(Xs, y)\n",
        "#make predictions\n",
        "p3s = c3.predict(Xs)\n",
        "print(\"With Scaling\")\n",
        "# check accuracy\n",
        "print(classification_report(y, p3s, target_names=target_names))\n"
      ],
      "metadata": {
        "id": "kY4jts87-gPz"
      },
      "execution_count": null,
      "outputs": []
    },
    {
      "cell_type": "code",
      "source": [
        "# Stochastic Gradient Descent Classifier without scaling\n",
        "#define the model\n",
        "c4 = SGDClassifier(max_iter=1000, tol=1e-3)\n",
        "#fit the model\n",
        "c4.fit(X, y)\n",
        "#make predictions\n",
        "p4 = c4.predict(X)\n",
        "print(\"Without Scaling\")\n",
        "# check accuracy\n",
        "print(classification_report(y, p4, target_names=target_names))\n",
        "\n",
        "# Stochastic Gradient Descent Classifier WITH scaling\n",
        "#fit the model\n",
        "c4.fit(Xs, y)\n",
        "#make predictions\n",
        "p4s = c4.predict(Xs)\n",
        "print(\"With Scaling\")\n",
        "# check accuracy\n",
        "print(classification_report(y, p4s, target_names=target_names))"
      ],
      "metadata": {
        "id": "wgSxZNGk-Yw2"
      },
      "execution_count": null,
      "outputs": []
    },
    {
      "cell_type": "code",
      "source": [
        "# Gradient boosting classifier without scaling\n",
        "#define the model\n",
        "c5 = GradientBoostingClassifier(n_estimators=100, learning_rate=1.0, max_depth=1, random_state=0)\n",
        "#fit the model\n",
        "c5.fit(X, y)\n",
        "#make predictions\n",
        "p5 = c5.predict(X)\n",
        "print(\"Without Scaling\")\n",
        "# check accuracy\n",
        "print(classification_report(y, p5, target_names=target_names))\n",
        "\n",
        "# Gradient boosting classifier with scaling\n",
        "#fit the model\n",
        "c5.fit(Xs, y)\n",
        "#make predictions\n",
        "p5s = c5.predict(Xs)\n",
        "print(\"With Scaling\")\n",
        "# check accuracy\n",
        "print(classification_report(y, p5s, target_names=target_names))"
      ],
      "metadata": {
        "id": "D5u-Ce2B-ZbQ"
      },
      "execution_count": null,
      "outputs": []
    },
    {
      "cell_type": "code",
      "source": [
        "# Ridge classifier with cross-validation without scaling\n",
        "#define the model\n",
        "c6 = RidgeClassifierCV()\n",
        "#fit the model\n",
        "c6.fit(X, y)\n",
        "#make predictions\n",
        "p6 = c6.predict(X)\n",
        "# check accuracy\n",
        "print(\"Without Scaling\")\n",
        "print(classification_report(y, p6, target_names=target_names))\n",
        "# Ridge classifier with cross-validation with scaling\n",
        "#fit the model\n",
        "c6.fit(Xs, y)\n",
        "#make predictions\n",
        "p6s = c6.predict(Xs)\n",
        "# check accuracy\n",
        "print(\"With Scaling\")\n",
        "print(classification_report(y, p6s, target_names=target_names))"
      ],
      "metadata": {
        "id": "0kIjAG50-4Xu"
      },
      "execution_count": null,
      "outputs": []
    },
    {
      "cell_type": "markdown",
      "source": [
        "# Which multi-class classifier performed best?\n",
        "\n",
        "Review the metrics for each classifier- which one performed best? Was it on scaled or raw data?\n",
        "\n",
        "Now let's drop one class and try some binary classifiers."
      ],
      "metadata": {
        "id": "TM8Y5OJ6IrH2"
      }
    },
    {
      "cell_type": "code",
      "source": [
        "#this will tell us how big the dataset is, with rows then columns\n",
        "print(df.shape)\n",
        "\n",
        "#print the list of column names\n",
        "print (df.columns, len(df.columns))"
      ],
      "metadata": {
        "colab": {
          "base_uri": "https://localhost:8080/"
        },
        "id": "xlAbu2dGN_aC",
        "outputId": "3e6ca678-83b8-4d03-c133-e2084322615e"
      },
      "execution_count": null,
      "outputs": [
        {
          "output_type": "stream",
          "name": "stdout",
          "text": [
            "(590, 14)\n",
            "Index(['sample_id', 'patient_cohort', 'sample_origin', 'age', 'sex',\n",
            "       'diagnosis', 'stage', 'benign_sample_diagnosis', 'plasma_CA19_9',\n",
            "       'creatinine', 'LYVE1', 'REG1B', 'TFF1', 'REG1A'],\n",
            "      dtype='object') 14\n"
          ]
        }
      ]
    },
    {
      "cell_type": "code",
      "source": [
        "df.dtypes"
      ],
      "metadata": {
        "colab": {
          "base_uri": "https://localhost:8080/"
        },
        "id": "6iMxOhkrOmxk",
        "outputId": "e65f7d03-ae64-425c-9c89-91c09d885357"
      },
      "execution_count": null,
      "outputs": [
        {
          "output_type": "execute_result",
          "data": {
            "text/plain": [
              "sample_id                   object\n",
              "patient_cohort              object\n",
              "sample_origin               object\n",
              "age                          int64\n",
              "sex                         object\n",
              "diagnosis                    int64\n",
              "stage                       object\n",
              "benign_sample_diagnosis     object\n",
              "plasma_CA19_9              float64\n",
              "creatinine                 float64\n",
              "LYVE1                      float64\n",
              "REG1B                      float64\n",
              "TFF1                       float64\n",
              "REG1A                      float64\n",
              "dtype: object"
            ]
          },
          "metadata": {},
          "execution_count": 14
        }
      ]
    },
    {
      "cell_type": "code",
      "source": [
        "# now let's drop all of the benign class and focus on the control and cancer groups\n",
        "df3 = df.drop(df.loc[df['diagnosis']==1].index)\n",
        "print(df3.head())"
      ],
      "metadata": {
        "id": "F7bnCaArIuys",
        "colab": {
          "base_uri": "https://localhost:8080/"
        },
        "outputId": "08f9eee5-1ffb-4ba1-dd3c-71d4c1d432c6"
      },
      "execution_count": null,
      "outputs": [
        {
          "output_type": "stream",
          "name": "stdout",
          "text": [
            "    sample_id patient_cohort sample_origin  age sex  diagnosis stage  \\\n",
            "183      S271        Cohort2          BPTB   32   F          2     b   \n",
            "184      S299        Cohort2          BPTB   59   F          2     b   \n",
            "185      S308        Cohort2          BPTB   65   F          2     b   \n",
            "186      S314        Cohort2          BPTB   39   F          2     b   \n",
            "187      S315        Cohort2          BPTB   65   F          2     b   \n",
            "\n",
            "    benign_sample_diagnosis  plasma_CA19_9  creatinine     LYVE1   REG1B  \\\n",
            "183         Abdominal Pain            12.0     1.16493  5.417692  21.135   \n",
            "184         Abdominal Pain             NaN     0.41847  0.526248  24.111   \n",
            "185         Abdominal Pain             NaN     0.36192  2.343091  12.957   \n",
            "186         Abdominal Pain             NaN     0.89349  0.736352  21.550   \n",
            "187         Abdominal Pain            13.0     0.37323  0.228904  13.977   \n",
            "\n",
            "          TFF1  REG1A  \n",
            "183  445.72500    NaN  \n",
            "184    4.09000    NaN  \n",
            "185    0.02823    NaN  \n",
            "186  105.94300    NaN  \n",
            "187    7.36700    NaN  \n"
          ]
        }
      ]
    },
    {
      "cell_type": "code",
      "source": [
        "print(\"... Drop columns with too many NAs ...\", flush=True)\n",
        "        # Drop columns with > 60% missing data\n",
        "n_cols_before_drop = len(df3.columns.values)\n",
        "df3 = df3[df3.columns[df3.isna().mean() <= 0.40]]\n",
        "n_cols_after_drop = len(df3.columns.values)\n",
        "print(f\"Using {n_cols_after_drop} features of {n_cols_before_drop}, due to NA values.\")"
      ],
      "metadata": {
        "colab": {
          "base_uri": "https://localhost:8080/"
        },
        "id": "3BXDLCgyO4zC",
        "outputId": "dfd4b49c-551b-4f20-d3c9-274dee77c98e"
      },
      "execution_count": null,
      "outputs": [
        {
          "output_type": "stream",
          "name": "stdout",
          "text": [
            "... Drop columns with too many NAs ...\n",
            "Using 13 features of 14, due to NA values.\n"
          ]
        }
      ]
    },
    {
      "cell_type": "code",
      "source": [
        "#print the list of column names\n",
        "print (df3.columns, len(df3.columns))"
      ],
      "metadata": {
        "colab": {
          "base_uri": "https://localhost:8080/"
        },
        "id": "UtAK8Ys3Ps8h",
        "outputId": "e67cc2f9-b195-46e7-8219-a30d55519920"
      },
      "execution_count": null,
      "outputs": [
        {
          "output_type": "stream",
          "name": "stdout",
          "text": [
            "Index(['sample_id', 'patient_cohort', 'sample_origin', 'age', 'sex',\n",
            "       'diagnosis', 'stage', 'benign_sample_diagnosis', 'plasma_CA19_9',\n",
            "       'creatinine', 'LYVE1', 'REG1B', 'TFF1'],\n",
            "      dtype='object') 13\n"
          ]
        }
      ]
    },
    {
      "cell_type": "code",
      "source": [
        "# explore relationship between REG1B and Diagnosis\n",
        "X2= df3['REG1B']\n",
        "X2 = X2.values.reshape(-1,1)\n",
        "print(X2.shape)\n",
        "\n",
        "y2 = df3['diagnosis']\n",
        "print(y2.shape)\n",
        "\n",
        "# prepare scaled data for comparison\n",
        "scaler = preprocessing.StandardScaler().fit(X2)\n",
        "X2s = scaler.transform(X2)\n",
        "\n",
        "# we will assign this variable target_names to help us with the evaluation of each classifier\n",
        "target_names = ['2 (Benign)', '3 (Cancer)']"
      ],
      "metadata": {
        "colab": {
          "base_uri": "https://localhost:8080/"
        },
        "id": "7X9WgruGPzQR",
        "outputId": "c275191c-97c3-4dc8-b2f7-33e314950a93"
      },
      "execution_count": null,
      "outputs": [
        {
          "output_type": "stream",
          "name": "stdout",
          "text": [
            "(407, 1)\n",
            "(407,)\n"
          ]
        }
      ]
    },
    {
      "cell_type": "code",
      "source": [
        "from sklearn.ensemble import RandomForestClassifier\n",
        "from sklearn.ensemble import AdaBoostClassifier\n",
        "from sklearn.linear_model import SGDClassifier\n",
        "from sklearn import svm\n",
        "from sklearn.ensemble import GradientBoostingClassifier\n",
        "from sklearn.gaussian_process import GaussianProcessClassifier"
      ],
      "metadata": {
        "id": "LVU5bEyFP8UQ"
      },
      "execution_count": null,
      "outputs": []
    },
    {
      "cell_type": "code",
      "source": [
        "#AdaBoost classifier without scaling\n",
        "#define the model\n",
        "bc1 = AdaBoostClassifier(n_estimators=100)\n",
        "#fit the model\n",
        "bc1.fit(X2, y2)\n",
        "#make predictions\n",
        "bp1 = bc1.predict(X2)\n",
        "print(\"Without Scaling\")\n",
        "# check accuracy\n",
        "print(classification_report(y2, bp1, target_names=target_names))\n",
        "\n",
        "#AdaBoost classifier WITH scaling\n",
        "#fit the model\n",
        "bc1.fit(X2s, y2)\n",
        "#make predictions\n",
        "bp1s = bc1.predict(X2s)\n",
        "print(\"With Scaling\")\n",
        "# check accuracy\n",
        "print(classification_report(y2, bp1s, target_names=target_names))"
      ],
      "metadata": {
        "colab": {
          "base_uri": "https://localhost:8080/"
        },
        "id": "h5y1xjgCRHZJ",
        "outputId": "ba9b0111-07da-4340-8a5a-aac2dd7e1c4c"
      },
      "execution_count": null,
      "outputs": [
        {
          "output_type": "stream",
          "name": "stdout",
          "text": [
            "Without Scaling\n",
            "              precision    recall  f1-score   support\n",
            "\n",
            "  2 (Benign)       0.73      0.85      0.78       208\n",
            "  3 (Cancer)       0.81      0.67      0.73       199\n",
            "\n",
            "    accuracy                           0.76       407\n",
            "   macro avg       0.77      0.76      0.76       407\n",
            "weighted avg       0.77      0.76      0.76       407\n",
            "\n",
            "With Scaling\n",
            "              precision    recall  f1-score   support\n",
            "\n",
            "  2 (Benign)       0.73      0.85      0.78       208\n",
            "  3 (Cancer)       0.81      0.67      0.73       199\n",
            "\n",
            "    accuracy                           0.76       407\n",
            "   macro avg       0.77      0.76      0.76       407\n",
            "weighted avg       0.77      0.76      0.76       407\n",
            "\n"
          ]
        }
      ]
    },
    {
      "cell_type": "code",
      "source": [
        "#Random Forest classifier without scaling\n",
        "#define the model\n",
        "bc2 = RandomForestClassifier(n_estimators=10)\n",
        "#fit the model\n",
        "bc2.fit(X2, y2)\n",
        "#make predictions\n",
        "bp2 = bc2.predict(X2)\n",
        "print(\"Without Scaling\")\n",
        "# check accuracy\n",
        "print(classification_report(y2, bp2, target_names=target_names))\n",
        "\n",
        "#Random Forest  classifier WITH scaling\n",
        "#fit the model\n",
        "bc2.fit(X2s, y2)\n",
        "#make predictions\n",
        "bp2s = bc2.predict(X2s)\n",
        "print(\"With Scaling\")\n",
        "# check accuracy\n",
        "print(classification_report(y2, bp2s, target_names=target_names))"
      ],
      "metadata": {
        "colab": {
          "base_uri": "https://localhost:8080/"
        },
        "id": "wrfvazKMRH-H",
        "outputId": "fe6a5b2a-566b-4060-fc6e-1ffca8f1c8db"
      },
      "execution_count": null,
      "outputs": [
        {
          "output_type": "stream",
          "name": "stdout",
          "text": [
            "Without Scaling\n",
            "              precision    recall  f1-score   support\n",
            "\n",
            "  2 (Benign)       0.94      0.99      0.96       208\n",
            "  3 (Cancer)       0.98      0.93      0.96       199\n",
            "\n",
            "    accuracy                           0.96       407\n",
            "   macro avg       0.96      0.96      0.96       407\n",
            "weighted avg       0.96      0.96      0.96       407\n",
            "\n",
            "With Scaling\n",
            "              precision    recall  f1-score   support\n",
            "\n",
            "  2 (Benign)       0.91      0.98      0.95       208\n",
            "  3 (Cancer)       0.98      0.90      0.94       199\n",
            "\n",
            "    accuracy                           0.94       407\n",
            "   macro avg       0.95      0.94      0.94       407\n",
            "weighted avg       0.95      0.94      0.94       407\n",
            "\n"
          ]
        }
      ]
    },
    {
      "cell_type": "code",
      "source": [
        "#Stochastic Gradient Descent classifier without scaling\n",
        "#define the model\n",
        "bc3 = SGDClassifier(loss=\"hinge\", penalty=\"l2\", max_iter=5)\n",
        "#fit the model\n",
        "bc3.fit(X2, y2)\n",
        "#make predictions\n",
        "bp3 = bc3.predict(X2)\n",
        "print(\"Without Scaling\")\n",
        "# check accuracy\n",
        "print(classification_report(y2, bp3, target_names=target_names))\n",
        "\n",
        "#Stochastic Gradient Descent classifier WITH scaling\n",
        "#fit the model\n",
        "bc3.fit(X2s, y2)\n",
        "#make predictions\n",
        "bp3s = bc3.predict(X2s)\n",
        "print(\"With Scaling\")\n",
        "# check accuracy\n",
        "print(classification_report(y2, bp3s, target_names=target_names))"
      ],
      "metadata": {
        "colab": {
          "base_uri": "https://localhost:8080/"
        },
        "id": "D1eyV2GgRKGU",
        "outputId": "22067612-a64b-4da4-9bef-a795df528416"
      },
      "execution_count": null,
      "outputs": [
        {
          "output_type": "stream",
          "name": "stdout",
          "text": [
            "Without Scaling\n",
            "              precision    recall  f1-score   support\n",
            "\n",
            "  2 (Benign)       0.91      0.10      0.17       208\n",
            "  3 (Cancer)       0.51      0.99      0.67       199\n",
            "\n",
            "    accuracy                           0.53       407\n",
            "   macro avg       0.71      0.54      0.42       407\n",
            "weighted avg       0.71      0.53      0.42       407\n",
            "\n",
            "With Scaling\n",
            "              precision    recall  f1-score   support\n",
            "\n",
            "  2 (Benign)       0.54      0.99      0.70       208\n",
            "  3 (Cancer)       0.89      0.13      0.22       199\n",
            "\n",
            "    accuracy                           0.57       407\n",
            "   macro avg       0.72      0.56      0.46       407\n",
            "weighted avg       0.71      0.57      0.46       407\n",
            "\n"
          ]
        },
        {
          "output_type": "stream",
          "name": "stderr",
          "text": [
            "/usr/local/lib/python3.7/dist-packages/sklearn/linear_model/_stochastic_gradient.py:700: ConvergenceWarning: Maximum number of iteration reached before convergence. Consider increasing max_iter to improve the fit.\n",
            "  ConvergenceWarning,\n",
            "/usr/local/lib/python3.7/dist-packages/sklearn/linear_model/_stochastic_gradient.py:700: ConvergenceWarning: Maximum number of iteration reached before convergence. Consider increasing max_iter to improve the fit.\n",
            "  ConvergenceWarning,\n"
          ]
        }
      ]
    },
    {
      "cell_type": "code",
      "source": [
        "#Support Vector Machine classifier without scaling\n",
        "#define the model\n",
        "bc4 = svm.SVC()\n",
        "#fit the model\n",
        "bc4.fit(X2, y2)\n",
        "#make predictions\n",
        "bp4 = bc4.predict(X2)\n",
        "print(\"Without Scaling\")\n",
        "# check accuracy\n",
        "print(classification_report(y2, bp4, target_names=target_names))\n",
        "\n",
        "#Support Vector Machine classifier WITH scaling\n",
        "#fit the model\n",
        "bc4.fit(X2s, y2)\n",
        "#make predictions\n",
        "bp4s = bc4.predict(X2s)\n",
        "print(\"With Scaling\")\n",
        "# check accuracy\n",
        "print(classification_report(y2, bp4s, target_names=target_names))"
      ],
      "metadata": {
        "colab": {
          "base_uri": "https://localhost:8080/"
        },
        "id": "-y8t5oG8RQsq",
        "outputId": "ba8e84ee-854f-442a-8271-422041a2ba52"
      },
      "execution_count": null,
      "outputs": [
        {
          "output_type": "stream",
          "name": "stdout",
          "text": [
            "Without Scaling\n",
            "              precision    recall  f1-score   support\n",
            "\n",
            "  2 (Benign)       0.68      0.77      0.72       208\n",
            "  3 (Cancer)       0.72      0.62      0.67       199\n",
            "\n",
            "    accuracy                           0.70       407\n",
            "   macro avg       0.70      0.70      0.70       407\n",
            "weighted avg       0.70      0.70      0.70       407\n",
            "\n",
            "With Scaling\n",
            "              precision    recall  f1-score   support\n",
            "\n",
            "  2 (Benign)       0.68      0.77      0.72       208\n",
            "  3 (Cancer)       0.72      0.62      0.67       199\n",
            "\n",
            "    accuracy                           0.70       407\n",
            "   macro avg       0.70      0.70      0.70       407\n",
            "weighted avg       0.70      0.70      0.70       407\n",
            "\n"
          ]
        }
      ]
    },
    {
      "cell_type": "code",
      "source": [
        "#GradientBoosting classifier without scaling\n",
        "#define the model\n",
        "bc5 = GradientBoostingClassifier(n_estimators=100, learning_rate=1.0, max_depth=1, random_state=0)\n",
        "#fit the model\n",
        "bc5.fit(X2, y2)\n",
        "#make predictions\n",
        "bp5 = bc5.predict(X2)\n",
        "print(\"Without Scaling\")\n",
        "# check accuracy\n",
        "print(classification_report(y2, bp5, target_names=target_names))\n",
        "\n",
        "#GradientBoosting classifier WITH scaling\n",
        "#fit the model\n",
        "bc5.fit(X2s, y2)\n",
        "#make predictions\n",
        "bp5s = bc5.predict(X2s)\n",
        "print(\"With Scaling\")\n",
        "# check accuracy\n",
        "print(classification_report(y2, bp5s, target_names=target_names))"
      ],
      "metadata": {
        "colab": {
          "base_uri": "https://localhost:8080/"
        },
        "id": "mRIs9I8ZRkZA",
        "outputId": "e99a8c54-f8b7-4d90-87d0-4f4360682bef"
      },
      "execution_count": null,
      "outputs": [
        {
          "output_type": "stream",
          "name": "stdout",
          "text": [
            "Without Scaling\n",
            "              precision    recall  f1-score   support\n",
            "\n",
            "  2 (Benign)       0.73      0.83      0.78       208\n",
            "  3 (Cancer)       0.79      0.67      0.73       199\n",
            "\n",
            "    accuracy                           0.75       407\n",
            "   macro avg       0.76      0.75      0.75       407\n",
            "weighted avg       0.76      0.75      0.75       407\n",
            "\n",
            "With Scaling\n",
            "              precision    recall  f1-score   support\n",
            "\n",
            "  2 (Benign)       0.73      0.83      0.78       208\n",
            "  3 (Cancer)       0.79      0.67      0.73       199\n",
            "\n",
            "    accuracy                           0.75       407\n",
            "   macro avg       0.76      0.75      0.75       407\n",
            "weighted avg       0.76      0.75      0.75       407\n",
            "\n"
          ]
        }
      ]
    },
    {
      "cell_type": "code",
      "source": [
        "from sklearn.gaussian_process.kernels import RBF\n",
        "kernel = 1.0 * RBF(1.0)\n",
        "#Gaussian classifier without scaling\n",
        "#define the model\n",
        "bc6 = GaussianProcessClassifier(kernel=kernel, random_state=0)\n",
        "#fit the model\n",
        "bc6.fit(X2, y2)\n",
        "#make predictions\n",
        "bp6 = bc6.predict(X2)\n",
        "print(\"Without Scaling\")\n",
        "# check accuracy\n",
        "print(classification_report(y2, bp6, target_names=target_names))\n",
        "\n",
        "#Gaussian classifier WITH scaling\n",
        "#fit the model\n",
        "bc6.fit(X2s, y2)\n",
        "#make predictions\n",
        "bp6s = bc6.predict(X2s)\n",
        "print(\"With Scaling\")\n",
        "# check accuracy\n",
        "print(classification_report(y2, bp6s, target_names=target_names))"
      ],
      "metadata": {
        "colab": {
          "base_uri": "https://localhost:8080/"
        },
        "id": "Ks-K1L7ORkm5",
        "outputId": "0b489057-a775-4444-964d-a6f8a120f345"
      },
      "execution_count": null,
      "outputs": [
        {
          "output_type": "stream",
          "name": "stdout",
          "text": [
            "Without Scaling\n",
            "              precision    recall  f1-score   support\n",
            "\n",
            "  2 (Benign)       0.68      0.79      0.73       208\n",
            "  3 (Cancer)       0.73      0.61      0.67       199\n",
            "\n",
            "    accuracy                           0.70       407\n",
            "   macro avg       0.71      0.70      0.70       407\n",
            "weighted avg       0.71      0.70      0.70       407\n",
            "\n",
            "With Scaling\n",
            "              precision    recall  f1-score   support\n",
            "\n",
            "  2 (Benign)       0.71      0.75      0.73       208\n",
            "  3 (Cancer)       0.72      0.69      0.70       199\n",
            "\n",
            "    accuracy                           0.72       407\n",
            "   macro avg       0.72      0.72      0.72       407\n",
            "weighted avg       0.72      0.72      0.72       407\n",
            "\n"
          ]
        }
      ]
    },
    {
      "cell_type": "markdown",
      "source": [
        "#How did the binary classifiers perform?\n",
        "\n",
        "How did they compare to the multi-class models?"
      ],
      "metadata": {
        "id": "TTSTROn0bERx"
      }
    }
  ],
  "metadata": {
    "colab": {
      "name": "Inter_Cancer_Model_Comparison (1).ipynb",
      "provenance": []
    },
    "interpreter": {
      "hash": "aee8b7b246df8f9039afb4144a1f6fd8d2ca17a180786b69acc140d282b71a49"
    },
    "kernelspec": {
      "display_name": "Python 3.8.6 64-bit",
      "language": "python",
      "name": "python3"
    },
    "language_info": {
      "codemirror_mode": {
        "name": "ipython",
        "version": 3
      },
      "file_extension": ".py",
      "mimetype": "text/x-python",
      "name": "python",
      "nbconvert_exporter": "python",
      "pygments_lexer": "ipython3",
      "version": "3.8.6"
    }
  },
  "nbformat": 4,
  "nbformat_minor": 0
}